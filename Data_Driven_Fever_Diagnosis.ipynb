{
 "cells": [
  {
   "cell_type": "code",
   "execution_count": 2,
   "id": "329552d7-730a-410d-93f0-0fa995c23dac",
   "metadata": {},
   "outputs": [
    {
     "name": "stdout",
     "output_type": "stream",
     "text": [
      "* Running on local URL:  http://127.0.0.1:7861\n",
      "* To create a public link, set `share=True` in `launch()`.\n"
     ]
    },
    {
     "data": {
      "text/html": [
       "<div><iframe src=\"http://127.0.0.1:7861/\" width=\"100%\" height=\"500\" allow=\"autoplay; camera; microphone; clipboard-read; clipboard-write;\" frameborder=\"0\" allowfullscreen></iframe></div>"
      ],
      "text/plain": [
       "<IPython.core.display.HTML object>"
      ]
     },
     "metadata": {},
     "output_type": "display_data"
    },
    {
     "data": {
      "text/plain": []
     },
     "execution_count": 2,
     "metadata": {},
     "output_type": "execute_result"
    }
   ],
   "source": [
    "# ---- Step 1: Import Libraries ----\n",
    "import pandas as pd\n",
    "import numpy as np\n",
    "from sklearn.ensemble import RandomForestClassifier\n",
    "import gradio as gr\n",
    "\n",
    "# ---- Step 2: Load and Prepare Data ----\n",
    "# Load your training data (make sure the file is in your notebook's directory)\n",
    "train = pd.read_csv(r\"C:\\Users\\esusa\\Downloads\\Data-Driven Fever Diagnosis Using Machine Learning\\trainn.csv\")\n",
    "\n",
    "# Keep only Dengue and Malaria\n",
    "train = train[train['prognosis'].isin(['Dengue', 'Malaria'])]\n",
    "\n",
    "# Features and target\n",
    "feature_columns = train.columns[:-1]\n",
    "X = train[feature_columns]\n",
    "y = train['prognosis']\n",
    "\n",
    "# ---- Step 3: Train the Model ----\n",
    "model = RandomForestClassifier()\n",
    "model.fit(X, y)\n",
    "\n",
    "# ---- Step 4: Define Prediction Function with Confidence ----\n",
    "def predict_disease_with_confidence(*symptoms):\n",
    "    # Convert Yes/No to 1/0\n",
    "    binary_input = [1 if val == \"Yes\" else 0 for val in symptoms]\n",
    "    input_array = np.array(binary_input).reshape(1, -1)\n",
    "\n",
    "    # Predict probabilities\n",
    "    probs = model.predict_proba(input_array)[0]\n",
    "    classes = model.classes_\n",
    "\n",
    "    # Identify top prediction\n",
    "    top_index = np.argmax(probs)\n",
    "    predicted = classes[top_index]\n",
    "    confidence = probs[top_index] * 100\n",
    "\n",
    "    # Format output\n",
    "    result = f\"🩺 Predicted Disease: {predicted.upper()}\\n\\n\"\n",
    "    result += f\"📊 Confidence: {confidence:.2f}%\\n\\n\"\n",
    "    result += \"🔍 Probabilities:\\n\"\n",
    "    for cls, prob in zip(classes, probs):\n",
    "        result += f\" - {cls}: {prob * 100:.2f}%\\n\"\n",
    "\n",
    "    return result\n",
    "\n",
    "# ---- Step 5: Gradio Interface ----\n",
    "inputs = [\n",
    "    gr.Radio(choices=[\"No\", \"Yes\"], value=\"No\", label=feature.replace(\"_\", \" \").title())\n",
    "    for feature in feature_columns\n",
    "]\n",
    "\n",
    "with gr.Blocks(theme=gr.themes.Soft()) as demo:\n",
    "    gr.Markdown(\"## 🧬 Dengue vs Malaria Predictor\")\n",
    "    gr.Markdown(\"Select the symptoms below and click **Predict Disease**.\")\n",
    "\n",
    "    with gr.Row():\n",
    "        with gr.Column():\n",
    "            inputs_block = [inp.render() for inp in inputs]\n",
    "        with gr.Column():\n",
    "            output = gr.Textbox(label=\"Diagnosis\", interactive=False, lines=6)\n",
    "\n",
    "    predict_btn = gr.Button(\"Predict Disease\", elem_id=\"blue-btn\")\n",
    "\n",
    "    predict_btn.click(predict_disease_with_confidence, inputs=inputs, outputs=output)\n",
    "\n",
    "    # Custom blue button CSS\n",
    "    gr.HTML(\"\"\"\n",
    "    <style>\n",
    "    #blue-btn {\n",
    "        background-color: #007BFF;\n",
    "        color: white;\n",
    "        border: none;\n",
    "        padding: 10px 20px;\n",
    "        font-weight: bold;\n",
    "        font-size: 16px;\n",
    "        margin-top: 10px;\n",
    "        cursor: pointer;\n",
    "    }\n",
    "    </style>\n",
    "    \"\"\")\n",
    "\n",
    "# ---- Step 6: Launch App ----\n",
    "demo.launch(share=False)\n"
   ]
  }
 ],
 "metadata": {
  "kernelspec": {
   "display_name": "Python [conda env:base] *",
   "language": "python",
   "name": "conda-base-py"
  },
  "language_info": {
   "codemirror_mode": {
    "name": "ipython",
    "version": 3
   },
   "file_extension": ".py",
   "mimetype": "text/x-python",
   "name": "python",
   "nbconvert_exporter": "python",
   "pygments_lexer": "ipython3",
   "version": "3.12.3"
  }
 },
 "nbformat": 4,
 "nbformat_minor": 5
}
